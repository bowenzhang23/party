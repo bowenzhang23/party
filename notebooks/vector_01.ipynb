{
 "cells": [
  {
   "cell_type": "code",
   "execution_count": 1,
   "metadata": {},
   "outputs": [],
   "source": [
    "import sys\n",
    "sys.path.append(r\"/home/zhangbw/Documents/projects/party/src/\")\n",
    "from party.vector import *"
   ]
  },
  {
   "cell_type": "code",
   "execution_count": 2,
   "metadata": {},
   "outputs": [
    {
     "data": {
      "text/plain": [
       "a^u = [3.0, 6.0, 9.0, 16.0]"
      ]
     },
     "execution_count": 2,
     "metadata": {},
     "output_type": "execute_result"
    }
   ],
   "source": [
    "a = FourVector(3, 6, 9, 16, label='a')\n",
    "a"
   ]
  },
  {
   "cell_type": "code",
   "execution_count": 3,
   "metadata": {},
   "outputs": [
    {
     "data": {
      "text/plain": [
       "b^u = [100.0, 3.0, -4.0, -45.0]"
      ]
     },
     "execution_count": 3,
     "metadata": {},
     "output_type": "execute_result"
    }
   ],
   "source": [
    "b = FourVector(100, 3, -4, -45, label='b')\n",
    "b"
   ]
  },
  {
   "cell_type": "code",
   "execution_count": 4,
   "metadata": {},
   "outputs": [
    {
     "data": {
      "text/plain": [
       "((a+b)x-438.0)^u = [-45114.0, -3942.0, -2190.0, 12702.0]"
      ]
     },
     "execution_count": 4,
     "metadata": {},
     "output_type": "execute_result"
    }
   ],
   "source": [
    "(b * a) * (a + b)"
   ]
  },
  {
   "cell_type": "code",
   "execution_count": 5,
   "metadata": {},
   "outputs": [
    {
     "name": "stdout",
     "output_type": "stream",
     "text": [
      "rotate(a, axis=1, degree=30.000)^u = [3.0, 6.0, 15.79423, 9.35641]\n",
      "[[ 1.         0.         0.         0.       ]\n",
      " [ 0.         1.         0.         0.       ]\n",
      " [ 0.         0.         0.8660254  0.5      ]\n",
      " [ 0.         0.        -0.5        0.8660254]]\n"
     ]
    }
   ],
   "source": [
    "res, matrix = a.rotate(np.pi/6, 1)\n",
    "print(res)\n",
    "print(matrix)"
   ]
  },
  {
   "cell_type": "code",
   "execution_count": 6,
   "metadata": {},
   "outputs": [
    {
     "name": "stdout",
     "output_type": "stream",
     "text": [
      "rotate(a, axis=(1, 0, 0), degree=30.000)^u = [3.0, 6.0, 7.79423, 9.35641]\n",
      "[[ 1.         0.         0.         0.       ]\n",
      " [ 0.         1.         0.         0.       ]\n",
      " [ 0.         0.         0.8660254  0.       ]\n",
      " [ 0.         0.        -0.5        0.8660254]]\n"
     ]
    }
   ],
   "source": [
    "res, matrix = a.rotate(np.pi/6, (1, 0, 0))\n",
    "print(res)\n",
    "print(matrix)"
   ]
  },
  {
   "cell_type": "code",
   "execution_count": 7,
   "metadata": {},
   "outputs": [
    {
     "name": "stdout",
     "output_type": "stream",
     "text": [
      "boost(b, axis=3, velocity=-0.500)^u = [89.48929, 3.0, -4.0, 5.7735]\n",
      "[[1.15470054 0.         0.         0.57735027]\n",
      " [0.         1.         0.         0.        ]\n",
      " [0.         0.         1.         0.        ]\n",
      " [0.57735027 0.         0.         1.15470054]]\n"
     ]
    }
   ],
   "source": [
    "res, matrix = b.boost(-0.5, 3)\n",
    "print(res)\n",
    "print(matrix)"
   ]
  },
  {
   "cell_type": "code",
   "execution_count": 8,
   "metadata": {},
   "outputs": [
    {
     "name": "stdout",
     "output_type": "stream",
     "text": [
      "boost(b, axis=(0, 0, 1), velocity=-0.500)^u = [89.48929, 3.0, -4.0, 5.7735]\n",
      "[[1.15470054 0.         0.         0.57735027]\n",
      " [0.         1.         0.         0.        ]\n",
      " [0.         0.         1.         0.        ]\n",
      " [0.57735027 0.         0.         1.15470054]]\n"
     ]
    }
   ],
   "source": [
    "res, matrix = b.boost(-0.5, (0, 0, 1))\n",
    "print(res)\n",
    "print(matrix)"
   ]
  },
  {
   "cell_type": "code",
   "execution_count": 9,
   "metadata": {},
   "outputs": [
    {
     "name": "stdout",
     "output_type": "stream",
     "text": [
      "boost(b, axis=(0.03, -0.04, -0.45), velocity=0.453)^u = [89.16277, 0.0, -0.0, 0.0]\n",
      "[[ 1.12154431e+00 -3.36463292e-02  4.48617723e-02  5.04694939e-01]\n",
      " [-3.36463292e-02  1.00053361e+00 -7.11478877e-04 -8.00413737e-03]\n",
      " [ 4.48617723e-02 -7.11478877e-04  1.00094864e+00  1.06721832e-02]\n",
      " [ 5.04694939e-01 -8.00413737e-03  1.06721832e-02  1.12006206e+00]]\n"
     ]
    }
   ],
   "source": [
    "res, matrix = b.boost_to_zmf()\n",
    "print(res)\n",
    "print(matrix)"
   ]
  },
  {
   "cell_type": "code",
   "execution_count": null,
   "metadata": {},
   "outputs": [],
   "source": []
  }
 ],
 "metadata": {
  "kernelspec": {
   "display_name": "kaggle",
   "language": "python",
   "name": "python3"
  },
  "language_info": {
   "codemirror_mode": {
    "name": "ipython",
    "version": 3
   },
   "file_extension": ".py",
   "mimetype": "text/x-python",
   "name": "python",
   "nbconvert_exporter": "python",
   "pygments_lexer": "ipython3",
   "version": "3.9.16"
  },
  "orig_nbformat": 4
 },
 "nbformat": 4,
 "nbformat_minor": 2
}
