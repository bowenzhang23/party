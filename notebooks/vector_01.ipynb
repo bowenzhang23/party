{
 "cells": [
  {
   "cell_type": "code",
   "execution_count": 1,
   "metadata": {},
   "outputs": [],
   "source": [
    "import sys\n",
    "sys.path.append(r\"/home/zhangbw/Documents/projects/party/src/\")\n",
    "from party.vector import *"
   ]
  },
  {
   "cell_type": "code",
   "execution_count": 2,
   "metadata": {},
   "outputs": [
    {
     "data": {
      "text/plain": [
       "a^u = [10.0, 1.0, 1.0, 1.0]"
      ]
     },
     "execution_count": 2,
     "metadata": {},
     "output_type": "execute_result"
    }
   ],
   "source": [
    "a = FourVector(10, 1, 1, 1, label='a')\n",
    "a"
   ]
  },
  {
   "cell_type": "code",
   "execution_count": 3,
   "metadata": {},
   "outputs": [
    {
     "data": {
      "text/plain": [
       "b^u = [10.0, -1.0, 1.0, -1.0]"
      ]
     },
     "execution_count": 3,
     "metadata": {},
     "output_type": "execute_result"
    }
   ],
   "source": [
    "b = FourVector(10, -1, 1, -1, label='b')\n",
    "b"
   ]
  },
  {
   "cell_type": "code",
   "execution_count": 4,
   "metadata": {},
   "outputs": [
    {
     "data": {
      "text/plain": [
       "(0.0, 0.0)"
      ]
     },
     "execution_count": 4,
     "metadata": {},
     "output_type": "execute_result"
    }
   ],
   "source": [
    "c = FourVector(5, 0, 0, 5, label='c')\n",
    "c * c, c.square()"
   ]
  },
  {
   "cell_type": "code",
   "execution_count": 5,
   "metadata": {},
   "outputs": [
    {
     "data": {
      "text/plain": [
       "((a+b)x101.0)^u = [2020.0, 0.0, 202.0, 0.0]"
      ]
     },
     "execution_count": 5,
     "metadata": {},
     "output_type": "execute_result"
    }
   ],
   "source": [
    "(b * a) * (a + b)"
   ]
  },
  {
   "cell_type": "code",
   "execution_count": 6,
   "metadata": {},
   "outputs": [
    {
     "name": "stdout",
     "output_type": "stream",
     "text": [
      "rotate(a, axis=1, degree=30.000)^u = [10.0, 1.0, 1.36603, 0.36603]\n",
      "[[ 1.         0.         0.         0.       ]\n",
      " [ 0.         1.         0.         0.       ]\n",
      " [ 0.         0.         0.8660254  0.5      ]\n",
      " [ 0.         0.        -0.5        0.8660254]]\n"
     ]
    }
   ],
   "source": [
    "res, matrix = a.rotate(np.pi/6, 1)\n",
    "print(res)\n",
    "print(matrix)"
   ]
  },
  {
   "cell_type": "code",
   "execution_count": 7,
   "metadata": {},
   "outputs": [
    {
     "name": "stdout",
     "output_type": "stream",
     "text": [
      "rotate(a, axis=(1, 0, 0), degree=30.000)^u = [10.0, 1.0, 0.86603, 0.36603]\n",
      "[[ 1.         0.         0.         0.       ]\n",
      " [ 0.         1.         0.         0.       ]\n",
      " [ 0.         0.         0.8660254  0.       ]\n",
      " [ 0.         0.        -0.5        0.8660254]]\n"
     ]
    }
   ],
   "source": [
    "res, matrix = a.rotate(np.pi/6, (1, 0, 0))\n",
    "print(res)\n",
    "print(matrix)"
   ]
  },
  {
   "cell_type": "code",
   "execution_count": 8,
   "metadata": {},
   "outputs": [
    {
     "name": "stdout",
     "output_type": "stream",
     "text": [
      "boost(b, axis=3, velocity=-0.500)^u = [10.96966, -1.0, 1.0, 4.6188]\n",
      "[[1.15470054 0.         0.         0.57735027]\n",
      " [0.         1.         0.         0.        ]\n",
      " [0.         0.         1.         0.        ]\n",
      " [0.57735027 0.         0.         1.15470054]]\n"
     ]
    }
   ],
   "source": [
    "res, matrix = b.boost(-0.5, 3)\n",
    "print(res)\n",
    "print(matrix)"
   ]
  },
  {
   "cell_type": "code",
   "execution_count": 9,
   "metadata": {},
   "outputs": [
    {
     "name": "stdout",
     "output_type": "stream",
     "text": [
      "boost(b, axis=(0, 0, 1), velocity=-0.500)^u = [10.96966, -1.0, 1.0, 4.6188]\n",
      "[[1.15470054 0.         0.         0.57735027]\n",
      " [0.         1.         0.         0.        ]\n",
      " [0.         0.         1.         0.        ]\n",
      " [0.57735027 0.         0.         1.15470054]]\n"
     ]
    }
   ],
   "source": [
    "res, matrix = b.boost(-0.5, (0, 0, 1))\n",
    "print(res)\n",
    "print(matrix)"
   ]
  },
  {
   "cell_type": "code",
   "execution_count": 10,
   "metadata": {},
   "outputs": [
    {
     "name": "stdout",
     "output_type": "stream",
     "text": [
      "boost(b, axis=(-0.1, 0.1, -0.1), velocity=0.173)^u = [9.84886, 0.0, -0.0, 0.0]\n",
      "[[ 1.01534617  0.10153462 -0.10153462  0.10153462]\n",
      " [ 0.10153462  1.00511539 -0.00511539  0.00511539]\n",
      " [-0.10153462 -0.00511539  1.00511539 -0.00511539]\n",
      " [ 0.10153462  0.00511539 -0.00511539  1.00511539]]\n"
     ]
    }
   ],
   "source": [
    "res, matrix = b.boost_to_zmf()\n",
    "print(res)\n",
    "print(matrix)"
   ]
  },
  {
   "cell_type": "code",
   "execution_count": 11,
   "metadata": {},
   "outputs": [
    {
     "data": {
      "text/plain": [
       "((bx-1)^u = [-10.0, 1.0, -1.0, 1.0], b^u = [10.0, 1.0, -1.0, 1.0])"
      ]
     },
     "execution_count": 11,
     "metadata": {},
     "output_type": "execute_result"
    }
   ],
   "source": [
    "-b, b.opposite()"
   ]
  },
  {
   "cell_type": "code",
   "execution_count": null,
   "metadata": {},
   "outputs": [],
   "source": []
  }
 ],
 "metadata": {
  "kernelspec": {
   "display_name": "kaggle",
   "language": "python",
   "name": "python3"
  },
  "language_info": {
   "codemirror_mode": {
    "name": "ipython",
    "version": 3
   },
   "file_extension": ".py",
   "mimetype": "text/x-python",
   "name": "python",
   "nbconvert_exporter": "python",
   "pygments_lexer": "ipython3",
   "version": "3.9.16"
  },
  "orig_nbformat": 4
 },
 "nbformat": 4,
 "nbformat_minor": 2
}
