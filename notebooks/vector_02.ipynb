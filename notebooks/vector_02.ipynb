{
 "cells": [
  {
   "cell_type": "code",
   "execution_count": 1,
   "metadata": {},
   "outputs": [],
   "source": [
    "import sys\n",
    "sys.path.append(r\"/home/zhangbw/Documents/projects/party/src/\")\n",
    "from party.vector import *"
   ]
  },
  {
   "cell_type": "code",
   "execution_count": 2,
   "metadata": {},
   "outputs": [],
   "source": [
    "def examine_vars(vars):\n",
    "    try:\n",
    "        a = FourMomentum(vars, label='a')\n",
    "        print(a)\n",
    "    except Exception as e:\n",
    "        print(f\"exception message == {e}\")\n",
    "\n",
    "def run_vars(vars):\n",
    "    a = FourMomentum(vars, label='a')\n",
    "    print(a)  "
   ]
  },
  {
   "cell_type": "code",
   "execution_count": 3,
   "metadata": {},
   "outputs": [
    {
     "name": "stdout",
     "output_type": "stream",
     "text": [
      "a^u = [5.0, 0.0, 0.0, 5.0]\n"
     ]
    }
   ],
   "source": [
    "vars = {\n",
    "    \"E\": 5,\n",
    "    \"px\": 0,\n",
    "    \"py\": 0,\n",
    "    \"pz\": 5,\n",
    "}\n",
    "examine_vars(vars)"
   ]
  },
  {
   "cell_type": "code",
   "execution_count": 4,
   "metadata": {},
   "outputs": [
    {
     "name": "stdout",
     "output_type": "stream",
     "text": [
      "exception message == Pt can not be determined!\n"
     ]
    }
   ],
   "source": [
    "vars = {\n",
    "    \"E\": 5,\n",
    "    \"px\": 0,\n",
    "    \"eta\": 0,\n",
    "    \"pz\": 5,\n",
    "}\n",
    "examine_vars(vars)"
   ]
  },
  {
   "cell_type": "code",
   "execution_count": 5,
   "metadata": {},
   "outputs": [
    {
     "name": "stdout",
     "output_type": "stream",
     "text": [
      "a^u = [7.07107, 0.0, 0.0, 5.0]\n"
     ]
    }
   ],
   "source": [
    "vars = {\n",
    "    \"m\": 5,\n",
    "    \"px\": 0,\n",
    "    \"py\": 0,\n",
    "    \"pz\": 5,\n",
    "}\n",
    "examine_vars(vars)"
   ]
  },
  {
   "cell_type": "code",
   "execution_count": 13,
   "metadata": {},
   "outputs": [
    {
     "name": "stdout",
     "output_type": "stream",
     "text": [
      "a^u = [742.09949, 8.66025, 5.0, 742.03211]\n"
     ]
    }
   ],
   "source": [
    "vars = {\n",
    "    \"m\": 0.1,\n",
    "    \"pt\": 10,\n",
    "    \"phi\": np.pi / 6,\n",
    "    \"eta\": 5,  # TODO large eta limit!\n",
    "}\n",
    "examine_vars(vars)"
   ]
  },
  {
   "cell_type": "code",
   "execution_count": 12,
   "metadata": {},
   "outputs": [
    {
     "name": "stdout",
     "output_type": "stream",
     "text": [
      "a^u = [10.0005, 8.66025, 5.0, 0.0]\n"
     ]
    }
   ],
   "source": [
    "vars = {\n",
    "    \"m\": 0.1,\n",
    "    \"pt\": 10,\n",
    "    \"phi\": np.pi / 6,\n",
    "    \"eta\": 0,\n",
    "}\n",
    "examine_vars(vars)"
   ]
  },
  {
   "cell_type": "code",
   "execution_count": null,
   "metadata": {},
   "outputs": [],
   "source": []
  }
 ],
 "metadata": {
  "kernelspec": {
   "display_name": "kaggle",
   "language": "python",
   "name": "python3"
  },
  "language_info": {
   "codemirror_mode": {
    "name": "ipython",
    "version": 3
   },
   "file_extension": ".py",
   "mimetype": "text/x-python",
   "name": "python",
   "nbconvert_exporter": "python",
   "pygments_lexer": "ipython3",
   "version": "3.9.16"
  },
  "orig_nbformat": 4
 },
 "nbformat": 4,
 "nbformat_minor": 2
}
